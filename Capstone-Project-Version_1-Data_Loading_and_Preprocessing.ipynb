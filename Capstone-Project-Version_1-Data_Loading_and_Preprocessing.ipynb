{
 "cells": [
  {
   "cell_type": "markdown",
   "id": "5c8e3a82",
   "metadata": {},
   "source": [
    "# <center>**Capstone Project: Climate Impact and Prediction Modeling**</center> #\n",
    "    "
   ]
  },
  {
   "cell_type": "markdown",
   "id": "d59fb00f",
   "metadata": {},
   "source": [
    "## <center>Data Loading and Preprocessing</center>"
   ]
  },
  {
   "cell_type": "markdown",
   "id": "806fb945",
   "metadata": {},
   "source": [
    "### <center>Introduction</center> ###\n",
    "In this notebook we will go over the necessary data being used in this current version of the project and a step by step description will be provided as we go along."
   ]
  },
  {
   "cell_type": "markdown",
   "id": "2dffd7b5",
   "metadata": {},
   "source": [
    "### <center>Imported Modules</center> ###\n",
    "Here we will import all necessary supporting modules that we will need through out the notebook."
   ]
  },
  {
   "cell_type": "code",
   "execution_count": 1,
   "id": "04bdb234",
   "metadata": {},
   "outputs": [],
   "source": [
    "import pandas as pd\n",
    "import math as math\n",
    "import numpy as np\n",
    "import matplotlib.pyplot as plt"
   ]
  },
  {
   "cell_type": "markdown",
   "id": "136399c6",
   "metadata": {},
   "source": [
    "### <center>Imported Data</center> ###\n",
    "Here we will import all our data so we can view it, preprocess it, and clean it.\n",
    "\n",
    "The references for all the data will be provided at the bottom."
   ]
  },
  {
   "cell_type": "code",
   "execution_count": 5,
   "id": "35d3f277",
   "metadata": {},
   "outputs": [],
   "source": [
    "world_temp = pd.read_csv(\"global-temperature-anomalies-by-month.csv\")\n",
    "Global_warming_by_gas_and_source = pd.read_csv(\"global-warming-by-gas-and-source.csv\")\n",
    "Global_warming_by_fossil = pd.read_csv(\"global-warming-fossil.csv\")\n",
    "CO2_Emissions_by_Country = pd.read_csv(\"annual-co2-emissions-per-country.csv\")\n",
    "CO2_Emissions_per_capita = pd.read_csv(\"co-emissions-per-capita.csv\")\n",
    "GHG_per_capita = pd.read_csv(\"per-capita-ghg-emissions.csv\")\n",
    "methane_per_capita = pd.read_csv(\"per-capita-methane-emissions.csv\")\n",
    "nitrous_oxide_per_capita = pd.read_csv(\"per-capita-nitrous-oxide.csv\")\n",
    "Countries_By_Income_Classification = pd.read_csv(\"countries-by-income-classification.csv\")\n",
    "GDPPC_maddison = pd.read_csv(\"gdp-per-capita-maddison.csv\")\n",
    "GDPPC_worldbank = pd.read_csv(\"gdp-per-capita-worldbank.csv\")\n",
    "GDPPC_penn = pd.read_csv(\"gdp-per-capita-penn-world-table.csv\")\n",
    "Population = pd.read_csv(\"population-and-demography.csv\")\n",
    "Land_Usage = pd.read_csv(\"land-use-over-the-long-term.csv\")"
   ]
  },
  {
   "cell_type": "markdown",
   "id": "655958f8",
   "metadata": {},
   "source": [
    "From here the data will be sorted into two seperate groups:\n",
    "##### Global Warming: #####\n",
    "- Gas Emissions\n",
    "- Global Temperatures\n",
    "\n",
    "##### Economic Development: #####\n",
    "- Regional or Country Specific Economic Growth\n",
    "- Population changes\n",
    "- Land Usage"
   ]
  },
  {
   "cell_type": "markdown",
   "id": "332c1be4",
   "metadata": {},
   "source": [
    "### <center> Global Warming </center> ###\n",
    "Here the global warming data will be explored one by one."
   ]
  },
  {
   "cell_type": "code",
   "execution_count": 11,
   "id": "c98ce71d",
   "metadata": {},
   "outputs": [
    {
     "data": {
      "text/html": [
       "<div>\n",
       "<style scoped>\n",
       "    .dataframe tbody tr th:only-of-type {\n",
       "        vertical-align: middle;\n",
       "    }\n",
       "\n",
       "    .dataframe tbody tr th {\n",
       "        vertical-align: top;\n",
       "    }\n",
       "\n",
       "    .dataframe thead th {\n",
       "        text-align: right;\n",
       "    }\n",
       "</style>\n",
       "<table border=\"1\" class=\"dataframe\">\n",
       "  <thead>\n",
       "    <tr style=\"text-align: right;\">\n",
       "      <th></th>\n",
       "      <th>Code</th>\n",
       "      <th>Year</th>\n",
       "      <th>Temperature anomaly</th>\n",
       "    </tr>\n",
       "  </thead>\n",
       "  <tbody>\n",
       "    <tr>\n",
       "      <th>count</th>\n",
       "      <td>0.0</td>\n",
       "      <td>1016.000000</td>\n",
       "      <td>1016.000000</td>\n",
       "    </tr>\n",
       "    <tr>\n",
       "      <th>mean</th>\n",
       "      <td>NaN</td>\n",
       "      <td>1981.834646</td>\n",
       "      <td>-0.330755</td>\n",
       "    </tr>\n",
       "    <tr>\n",
       "      <th>std</th>\n",
       "      <td>NaN</td>\n",
       "      <td>24.453761</td>\n",
       "      <td>0.387380</td>\n",
       "    </tr>\n",
       "    <tr>\n",
       "      <th>min</th>\n",
       "      <td>NaN</td>\n",
       "      <td>1940.000000</td>\n",
       "      <td>-1.060034</td>\n",
       "    </tr>\n",
       "    <tr>\n",
       "      <th>25%</th>\n",
       "      <td>NaN</td>\n",
       "      <td>1961.000000</td>\n",
       "      <td>-0.636508</td>\n",
       "    </tr>\n",
       "    <tr>\n",
       "      <th>50%</th>\n",
       "      <td>NaN</td>\n",
       "      <td>1982.000000</td>\n",
       "      <td>-0.427380</td>\n",
       "    </tr>\n",
       "    <tr>\n",
       "      <th>75%</th>\n",
       "      <td>NaN</td>\n",
       "      <td>2003.000000</td>\n",
       "      <td>-0.047876</td>\n",
       "    </tr>\n",
       "    <tr>\n",
       "      <th>max</th>\n",
       "      <td>NaN</td>\n",
       "      <td>2024.000000</td>\n",
       "      <td>0.930606</td>\n",
       "    </tr>\n",
       "  </tbody>\n",
       "</table>\n",
       "</div>"
      ],
      "text/plain": [
       "       Code         Year  Temperature anomaly\n",
       "count   0.0  1016.000000          1016.000000\n",
       "mean    NaN  1981.834646            -0.330755\n",
       "std     NaN    24.453761             0.387380\n",
       "min     NaN  1940.000000            -1.060034\n",
       "25%     NaN  1961.000000            -0.636508\n",
       "50%     NaN  1982.000000            -0.427380\n",
       "75%     NaN  2003.000000            -0.047876\n",
       "max     NaN  2024.000000             0.930606"
      ]
     },
     "execution_count": 11,
     "metadata": {},
     "output_type": "execute_result"
    }
   ],
   "source": [
    "world_temp.describe()"
   ]
  },
  {
   "cell_type": "markdown",
   "id": "6a8d3e67",
   "metadata": {},
   "source": [
    "The range of this data goes from 1940 to 2024 in a monthly increment."
   ]
  },
  {
   "cell_type": "code",
   "execution_count": 13,
   "id": "05f65221",
   "metadata": {},
   "outputs": [
    {
     "data": {
      "text/plain": [
       "Entity                    0\n",
       "Code                   1016\n",
       "Year                      0\n",
       "Temperature anomaly       0\n",
       "dtype: int64"
      ]
     },
     "execution_count": 13,
     "metadata": {},
     "output_type": "execute_result"
    }
   ],
   "source": [
    "world_temp.isnull().sum()"
   ]
  },
  {
   "cell_type": "markdown",
   "id": "847ac947",
   "metadata": {},
   "source": [
    "Code here can be ignored since this is a placeholder column, meaning the data is 100% here with no missing values."
   ]
  },
  {
   "cell_type": "code",
   "execution_count": 15,
   "id": "09cde165",
   "metadata": {},
   "outputs": [
    {
     "data": {
      "text/html": [
       "<div>\n",
       "<style scoped>\n",
       "    .dataframe tbody tr th:only-of-type {\n",
       "        vertical-align: middle;\n",
       "    }\n",
       "\n",
       "    .dataframe tbody tr th {\n",
       "        vertical-align: top;\n",
       "    }\n",
       "\n",
       "    .dataframe thead th {\n",
       "        text-align: right;\n",
       "    }\n",
       "</style>\n",
       "<table border=\"1\" class=\"dataframe\">\n",
       "  <thead>\n",
       "    <tr style=\"text-align: right;\">\n",
       "      <th></th>\n",
       "      <th>Year</th>\n",
       "      <th>Change in global mean surface temperature caused by nitrous oxide emissions from fossil fuels and industry</th>\n",
       "      <th>Change in global mean surface temperature caused by nitrous oxide emissions from agriculture and land use</th>\n",
       "      <th>Change in global mean surface temperature caused by methane emissions from fossil fuels and industry</th>\n",
       "      <th>Change in global mean surface temperature caused by methane emissions from agriculture and land use</th>\n",
       "      <th>Change in global mean surface temperature caused by CO₂ emissions from fossil fuels and industry</th>\n",
       "      <th>Change in global mean surface temperature caused by CO₂ emissions from agriculture and land use</th>\n",
       "    </tr>\n",
       "  </thead>\n",
       "  <tbody>\n",
       "    <tr>\n",
       "      <th>count</th>\n",
       "      <td>41280.000000</td>\n",
       "      <td>3.784000e+04</td>\n",
       "      <td>3.715200e+04</td>\n",
       "      <td>37840.000000</td>\n",
       "      <td>36980.000000</td>\n",
       "      <td>4.093600e+04</td>\n",
       "      <td>36636.000000</td>\n",
       "    </tr>\n",
       "    <tr>\n",
       "      <th>mean</th>\n",
       "      <td>1936.500000</td>\n",
       "      <td>1.523874e-04</td>\n",
       "      <td>3.774921e-04</td>\n",
       "      <td>0.001684</td>\n",
       "      <td>0.001380</td>\n",
       "      <td>4.010030e-03</td>\n",
       "      <td>0.003863</td>\n",
       "    </tr>\n",
       "    <tr>\n",
       "      <th>std</th>\n",
       "      <td>49.651885</td>\n",
       "      <td>9.112282e-04</td>\n",
       "      <td>2.055087e-03</td>\n",
       "      <td>0.009604</td>\n",
       "      <td>0.006900</td>\n",
       "      <td>2.744131e-02</td>\n",
       "      <td>0.017857</td>\n",
       "    </tr>\n",
       "    <tr>\n",
       "      <th>min</th>\n",
       "      <td>1851.000000</td>\n",
       "      <td>0.000000e+00</td>\n",
       "      <td>0.000000e+00</td>\n",
       "      <td>0.000000</td>\n",
       "      <td>-0.000693</td>\n",
       "      <td>0.000000e+00</td>\n",
       "      <td>-0.001109</td>\n",
       "    </tr>\n",
       "    <tr>\n",
       "      <th>25%</th>\n",
       "      <td>1893.750000</td>\n",
       "      <td>1.863429e-07</td>\n",
       "      <td>5.025215e-07</td>\n",
       "      <td>0.000001</td>\n",
       "      <td>0.000002</td>\n",
       "      <td>0.000000e+00</td>\n",
       "      <td>0.000005</td>\n",
       "    </tr>\n",
       "    <tr>\n",
       "      <th>50%</th>\n",
       "      <td>1936.500000</td>\n",
       "      <td>1.664020e-06</td>\n",
       "      <td>7.576835e-06</td>\n",
       "      <td>0.000017</td>\n",
       "      <td>0.000034</td>\n",
       "      <td>8.518776e-07</td>\n",
       "      <td>0.000100</td>\n",
       "    </tr>\n",
       "    <tr>\n",
       "      <th>75%</th>\n",
       "      <td>1979.250000</td>\n",
       "      <td>1.362088e-05</td>\n",
       "      <td>6.887503e-05</td>\n",
       "      <td>0.000201</td>\n",
       "      <td>0.000258</td>\n",
       "      <td>1.009572e-04</td>\n",
       "      <td>0.000618</td>\n",
       "    </tr>\n",
       "    <tr>\n",
       "      <th>max</th>\n",
       "      <td>2022.000000</td>\n",
       "      <td>2.298785e-02</td>\n",
       "      <td>5.971938e-02</td>\n",
       "      <td>0.259437</td>\n",
       "      <td>0.157149</td>\n",
       "      <td>7.764043e-01</td>\n",
       "      <td>0.359545</td>\n",
       "    </tr>\n",
       "  </tbody>\n",
       "</table>\n",
       "</div>"
      ],
      "text/plain": [
       "               Year  \\\n",
       "count  41280.000000   \n",
       "mean    1936.500000   \n",
       "std       49.651885   \n",
       "min     1851.000000   \n",
       "25%     1893.750000   \n",
       "50%     1936.500000   \n",
       "75%     1979.250000   \n",
       "max     2022.000000   \n",
       "\n",
       "       Change in global mean surface temperature caused by nitrous oxide emissions from fossil fuels and industry  \\\n",
       "count                                       3.784000e+04                                                            \n",
       "mean                                        1.523874e-04                                                            \n",
       "std                                         9.112282e-04                                                            \n",
       "min                                         0.000000e+00                                                            \n",
       "25%                                         1.863429e-07                                                            \n",
       "50%                                         1.664020e-06                                                            \n",
       "75%                                         1.362088e-05                                                            \n",
       "max                                         2.298785e-02                                                            \n",
       "\n",
       "       Change in global mean surface temperature caused by nitrous oxide emissions from agriculture and land use  \\\n",
       "count                                       3.715200e+04                                                           \n",
       "mean                                        3.774921e-04                                                           \n",
       "std                                         2.055087e-03                                                           \n",
       "min                                         0.000000e+00                                                           \n",
       "25%                                         5.025215e-07                                                           \n",
       "50%                                         7.576835e-06                                                           \n",
       "75%                                         6.887503e-05                                                           \n",
       "max                                         5.971938e-02                                                           \n",
       "\n",
       "       Change in global mean surface temperature caused by methane emissions from fossil fuels and industry  \\\n",
       "count                                       37840.000000                                                      \n",
       "mean                                            0.001684                                                      \n",
       "std                                             0.009604                                                      \n",
       "min                                             0.000000                                                      \n",
       "25%                                             0.000001                                                      \n",
       "50%                                             0.000017                                                      \n",
       "75%                                             0.000201                                                      \n",
       "max                                             0.259437                                                      \n",
       "\n",
       "       Change in global mean surface temperature caused by methane emissions from agriculture and land use  \\\n",
       "count                                       36980.000000                                                     \n",
       "mean                                            0.001380                                                     \n",
       "std                                             0.006900                                                     \n",
       "min                                            -0.000693                                                     \n",
       "25%                                             0.000002                                                     \n",
       "50%                                             0.000034                                                     \n",
       "75%                                             0.000258                                                     \n",
       "max                                             0.157149                                                     \n",
       "\n",
       "       Change in global mean surface temperature caused by CO₂ emissions from fossil fuels and industry  \\\n",
       "count                                       4.093600e+04                                                  \n",
       "mean                                        4.010030e-03                                                  \n",
       "std                                         2.744131e-02                                                  \n",
       "min                                         0.000000e+00                                                  \n",
       "25%                                         0.000000e+00                                                  \n",
       "50%                                         8.518776e-07                                                  \n",
       "75%                                         1.009572e-04                                                  \n",
       "max                                         7.764043e-01                                                  \n",
       "\n",
       "       Change in global mean surface temperature caused by CO₂ emissions from agriculture and land use  \n",
       "count                                       36636.000000                                                \n",
       "mean                                            0.003863                                                \n",
       "std                                             0.017857                                                \n",
       "min                                            -0.001109                                                \n",
       "25%                                             0.000005                                                \n",
       "50%                                             0.000100                                                \n",
       "75%                                             0.000618                                                \n",
       "max                                             0.359545                                                "
      ]
     },
     "execution_count": 15,
     "metadata": {},
     "output_type": "execute_result"
    }
   ],
   "source": [
    "Global_warming_by_gas_and_source.describe()"
   ]
  },
  {
   "cell_type": "code",
   "execution_count": 16,
   "id": "5bcedda0",
   "metadata": {},
   "outputs": [
    {
     "data": {
      "text/plain": [
       "Entity                                                                                                           0\n",
       "Code                                                                                                          3956\n",
       "Year                                                                                                             0\n",
       "Change in global mean surface temperature caused by nitrous oxide emissions from fossil fuels and industry    3440\n",
       "Change in global mean surface temperature caused by nitrous oxide emissions from agriculture and land use     4128\n",
       "Change in global mean surface temperature caused by methane emissions from fossil fuels and industry          3440\n",
       "Change in global mean surface temperature caused by methane emissions from agriculture and land use           4300\n",
       "Change in global mean surface temperature caused by CO₂ emissions from fossil fuels and industry               344\n",
       "Change in global mean surface temperature caused by CO₂ emissions from agriculture and land use               4644\n",
       "dtype: int64"
      ]
     },
     "execution_count": 16,
     "metadata": {},
     "output_type": "execute_result"
    }
   ],
   "source": [
    "Global_warming_by_gas_and_source.isnull().sum()"
   ]
  },
  {
   "cell_type": "markdown",
   "id": "cae6aeae",
   "metadata": {},
   "source": [
    "From here "
   ]
  },
  {
   "cell_type": "code",
   "execution_count": null,
   "id": "05d8cb75",
   "metadata": {},
   "outputs": [],
   "source": []
  },
  {
   "cell_type": "code",
   "execution_count": null,
   "id": "2aa2747c",
   "metadata": {},
   "outputs": [],
   "source": []
  },
  {
   "cell_type": "code",
   "execution_count": null,
   "id": "c621af6a",
   "metadata": {},
   "outputs": [],
   "source": []
  },
  {
   "cell_type": "code",
   "execution_count": null,
   "id": "87eb7fa3",
   "metadata": {},
   "outputs": [],
   "source": []
  },
  {
   "cell_type": "code",
   "execution_count": null,
   "id": "8f05d6f8",
   "metadata": {},
   "outputs": [],
   "source": []
  },
  {
   "cell_type": "code",
   "execution_count": null,
   "id": "f4dae969",
   "metadata": {},
   "outputs": [],
   "source": []
  },
  {
   "cell_type": "code",
   "execution_count": null,
   "id": "9233927e",
   "metadata": {},
   "outputs": [],
   "source": []
  },
  {
   "cell_type": "code",
   "execution_count": null,
   "id": "9eea79c6",
   "metadata": {},
   "outputs": [],
   "source": []
  },
  {
   "cell_type": "code",
   "execution_count": null,
   "id": "7c16b8a2",
   "metadata": {},
   "outputs": [],
   "source": []
  },
  {
   "cell_type": "code",
   "execution_count": null,
   "id": "92dba598",
   "metadata": {},
   "outputs": [],
   "source": []
  },
  {
   "cell_type": "code",
   "execution_count": null,
   "id": "dfe74c24",
   "metadata": {},
   "outputs": [],
   "source": []
  },
  {
   "cell_type": "code",
   "execution_count": null,
   "id": "dd149bdf",
   "metadata": {},
   "outputs": [],
   "source": []
  },
  {
   "cell_type": "markdown",
   "id": "5a44cae7",
   "metadata": {},
   "source": [
    "### <center>Citations & References</center> ###"
   ]
  },
  {
   "cell_type": "markdown",
   "id": "6b9ae551",
   "metadata": {},
   "source": [
    "<center>Global Carbon Budget (2023); Population based on various sources (2023) – with major processing by Our World in Data. “Annual CO₂ emissions (per capita) – GCB” [dataset]. Global Carbon Project, “Global Carbon Budget”; Various sources, “Population” [original data].</center> \n",
    "<br><br>\n",
    "<center>Jones et al. (2024); Population based on various sources (2023) – with major processing by Our World in Data. “Per-capita greenhouse gas emissions” [dataset]. Jones et al., “National contributions to climate change 2024.1”; Various sources, “Population” [original data].</center>\n",
    "<br><br>\n",
    "<center>Jones et al. (2024); Population based on various sources (2023) – with major processing by Our World in Data. “Per-capita methane emissions” [dataset]. Jones et al., “National contributions to climate change 2024.1”; Various sources, “Population” [original data].</center>\n",
    "<br><br>\n",
    "<center>Jones et al. (2024); Population based on various sources (2023) – with major processing by Our World in Data. “Per-capita nitrous oxide emissions” [dataset]. Jones et al., “National contributions to climate change 2024.1”; Various sources, “Population” [original data].</center>\n",
    "<br><br>\n",
    "<center>Jones et al. (2024) – with major processing by Our World in Data. “Change in global mean surface temperature caused by greenhouse gas emissions from fossil fuels and industry” [dataset]. Jones et al., “National contributions to climate change 2024.1” [original data].</center>\n",
    "<br><br>\n",
    "<center>Global Carbon Budget (2023) – with major processing by Our World in Data. “Annual CO₂ emissions – GCB” [dataset]. Global Carbon Project, “Global Carbon Budget” [original data].</center>\n",
    "<br><br>\n",
    "<center>United States Department for Agriculture (USDA) Economic Research Service – processed by Our World in Data. “Agricultural output” [dataset]. United States Department for Agriculture (USDA) Economic Research Service [original data].</center>\n",
    "<br><br>\n",
    "<center>HYDE (2023) – with minor processing by Our World in Data. “Built-up Area” [dataset]. PBL Netherlands Environmental Assessment Agency, “History Database of the Global Environment 3.3” [original data].</center>\n",
    "<br><br>\n",
    "<center>HYDE (2023) – with minor processing by Our World in Data. “Land use: Agriculture” [dataset]. PBL Netherlands Environmental Assessment Agency, “History Database of the Global Environment 3.3” [original data].</center>\n",
    "<br><br>\n",
    "<center>HYDE (2023) – with minor processing by Our World in Data. “Land use: Cropland” [dataset]. PBL Netherlands Environmental Assessment Agency, “History Database of the Global Environment 3.3” [original data].</center>\n",
    "<br><br>\n",
    "<center>HYDE (2023) – with minor processing by Our World in Data. “Land use: Grazingland” [dataset]. PBL Netherlands Environmental Assessment Agency, “History Database of the Global Environment 3.3” [original data].</center>\n",
    "<br><br>\n",
    "<center>**Contains modified Copernicus Climate Change Service information (2019) – with major processing by Our World in Data. “Temperature anomaly” [dataset]. Contains modified Copernicus Climate Change Service information, “ERA5 monthly averaged data on single levels from 1940 to present 2” [original data].**</center>\n",
    "<br><br>\n",
    "<center>**Jones et al. (2024) – with major processing by Our World in Data. “Change in global mean surface temperature caused by CO₂ emissions from agriculture and land use” [dataset]. Jones et al., “National contributions to climate change 2024.1” [original data].**</center>\n",
    "<br><br>\n",
    "<center>World Bank (2024) – with major processing by Our World in Data. “Number of high-income countries” [dataset]. World Bank, “Income Classifications” [original data].</center>\n",
    "<br><br>\n",
    "<center>Feenstra et al. (2015), Penn World Table (2021) – with major processing by Our World in Data. “GDP per capita – Penn World Table” [dataset]. Feenstra et al. (2015), Penn World Table (2021), “Penn World Table” [original data].</center>\n",
    "<br><br>\n",
    "<center>Feenstra et al. (2015), Penn World Table (2021) – with major processing by Our World in Data. “GDP” [dataset]. Feenstra et al. (2015), Penn World Table (2021), “Penn World Table” [original data].**</center> \n",
    "<br><br>\n",
    "<center>World Bank (2023) – with minor processing by Our World in Data. “Gross domestic product (GDP) – World Bank” [dataset]. World Bank, “World Bank World Development Indicators” [original data].</center>\n",
    "<br><br>\n",
    "<center>World Bank (2023) – with minor processing by Our World in Data. “GDP per capita – World Bank – In constant 2017 international $” [dataset]. World Bank, “World Bank World Development Indicators” [original data].</center>\n",
    "<br><br>\n",
    "<center>Bolt and van Zanden - Maddison Project Database 2023 – with minor processing by Our World in Data. “GDP per capita – Maddison Project Database – Historical data” [dataset]. Bolt and van Zanden, “Maddison Project Database 2023” [original data].</center>\n",
    "<br><br>\n",
    "<center>UN, World Population Prospects (2024) – processed by Our World in Data. “Population, total\n",
    " – UN WPP” [dataset]. United Nations, “World Population Prospects” [original data].</center>\n",
    "<br><br>\n",
    "<center></center>\n",
    "<br><br>\n",
    "<center></center>\n",
    "<br><br>\n",
    "<center></center>\n",
    "<br><br>\n",
    "<center></center>\n",
    "<br><br>\n",
    "<center></center>\n",
    "<br><br>"
   ]
  },
  {
   "cell_type": "markdown",
   "id": "74d97a69",
   "metadata": {},
   "source": []
  }
 ],
 "metadata": {
  "kernelspec": {
   "display_name": "Python 3 (ipykernel)",
   "language": "python",
   "name": "python3"
  },
  "language_info": {
   "codemirror_mode": {
    "name": "ipython",
    "version": 3
   },
   "file_extension": ".py",
   "mimetype": "text/x-python",
   "name": "python",
   "nbconvert_exporter": "python",
   "pygments_lexer": "ipython3",
   "version": "3.10.0"
  }
 },
 "nbformat": 4,
 "nbformat_minor": 5
}
